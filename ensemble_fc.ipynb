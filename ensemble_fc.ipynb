{
 "cells": [
  {
   "cell_type": "markdown",
   "metadata": {},
   "source": [
    "# LAM Classifier"
   ]
  },
  {
   "cell_type": "code",
   "execution_count": 1,
   "metadata": {},
   "outputs": [],
   "source": [
    "import numpy as np\n",
    "import pandas as pd\n",
    "import matplotlib.pyplot as plt\n",
    "\n",
    "import pickle\n",
    "\n",
    "import sklearn\n",
    "import sklearn.model_selection as sklms\n",
    "import sklearn.linear_model as skllm\n",
    "\n",
    "from sklearn.preprocessing import LabelEncoder\n",
    "from sklearn.model_selection import StratifiedKFold\n",
    "from sklearn.neural_network import MLPClassifier\n",
    "\n",
    "\n",
    "from lam import ar, fft, ssa, semor\n",
    "from lam import utils\n",
    "\n",
    "from ensemble import Ensemble\n",
    "\n",
    "from tqdm.notebook import tqdm"
   ]
  },
  {
   "cell_type": "markdown",
   "metadata": {},
   "source": [
    "### Loading and preprocessing data"
   ]
  },
  {
   "cell_type": "code",
   "execution_count": 2,
   "metadata": {},
   "outputs": [],
   "source": [
    "with open(\"data/manual/data/segments.pickle\", \"rb\") as f:\n",
    "    segments_dict = pickle.load(f)"
   ]
  },
  {
   "cell_type": "code",
   "execution_count": 3,
   "metadata": {},
   "outputs": [
    {
     "name": "stdout",
     "output_type": "stream",
     "text": [
      "Data shape: (215, 31)\n",
      "Labels shape: (215,)\n"
     ]
    }
   ],
   "source": [
    "action_and_segment = []\n",
    "\n",
    "for key, segments_array in segments_dict.items():\n",
    "    action_and_segment.extend([(key, s) for s in segments_array if s.size > 30])\n",
    "\n",
    "segments = [pair[1] for pair in action_and_segment]\n",
    "actions = [pair[0] for pair in action_and_segment]\n",
    "\n",
    "normalized_segments = utils.normalize_segments(segments)\n",
    "\n",
    "le = LabelEncoder()\n",
    "Y = le.fit_transform(actions)\n",
    "\n",
    "X = np.array(normalized_segments)\n",
    "\n",
    "print('Data shape:', X.shape)\n",
    "print('Labels shape:', Y.shape)"
   ]
  },
  {
   "cell_type": "markdown",
   "metadata": {},
   "source": [
    "#### Data shuffling"
   ]
  },
  {
   "cell_type": "code",
   "execution_count": 4,
   "metadata": {},
   "outputs": [],
   "source": [
    "a = np.arange(0, X.shape[0])\n",
    "np.random.shuffle(a)\n",
    "\n",
    "X = X[a]\n",
    "Y = Y[a]"
   ]
  },
  {
   "cell_type": "markdown",
   "metadata": {},
   "source": [
    "### Making an ensemble"
   ]
  },
  {
   "cell_type": "code",
   "execution_count": 5,
   "metadata": {},
   "outputs": [],
   "source": [
    "with open(\"data/semor_profiles/semor_profiles.pickle\", \"rb\") as f:\n",
    "    semor_profiles = pickle.load(f)\n",
    "\n",
    "for key, profile in semor_profiles.items():\n",
    "    semor_profiles[key] = utils.shrink_segment(profile, 20)"
   ]
  },
  {
   "cell_type": "code",
   "execution_count": 6,
   "metadata": {},
   "outputs": [
    {
     "name": "stdout",
     "output_type": "stream",
     "text": [
      "['ar_5', 'fft_4', 'ssa_10', 'semor_257', 'semor_669', 'semor_964', 'semor_779']\n"
     ]
    }
   ],
   "source": [
    "ens = Ensemble([ar.AR(5),\n",
    "                fft.FFT(4),\n",
    "                ssa.SSA(10),\n",
    "                semor.Semor(semor_profiles['walk']),\n",
    "                semor.Semor(semor_profiles['run']),\n",
    "                semor.Semor(semor_profiles['up']),\n",
    "                semor.Semor(semor_profiles['down'])])\n",
    "\n",
    "print([model.name for model in ens.models])"
   ]
  },
  {
   "cell_type": "code",
   "execution_count": 7,
   "metadata": {},
   "outputs": [
    {
     "name": "stderr",
     "output_type": "stream",
     "text": [
      "/home/danillich/.local/lib/python3.8/site-packages/statsmodels/tsa/ar_model.py:691: FutureWarning: \n",
      "statsmodels.tsa.AR has been deprecated in favor of statsmodels.tsa.AutoReg and\n",
      "statsmodels.tsa.SARIMAX.\n",
      "\n",
      "AutoReg adds the ability to specify exogenous variables, include time trends,\n",
      "and add seasonal dummies. The AutoReg API differs from AR since the model is\n",
      "treated as immutable, and so the entire specification including the lag\n",
      "length must be specified when creating the model. This change is too\n",
      "substantial to incorporate into the existing AR api. The function\n",
      "ar_select_order performs lag length selection for AutoReg models.\n",
      "\n",
      "AutoReg only estimates parameters using conditional MLE (OLS). Use SARIMAX to\n",
      "estimate ARX and related models using full MLE via the Kalman Filter.\n",
      "\n",
      "To silence this warning and continue using AR until it is removed, use:\n",
      "\n",
      "import warnings\n",
      "warnings.filterwarnings('ignore', 'statsmodels.tsa.ar_model.AR', FutureWarning)\n",
      "\n",
      "  warnings.warn(AR_DEPRECATION_WARN, FutureWarning)\n"
     ]
    }
   ],
   "source": [
    "ens.fit(X)"
   ]
  },
  {
   "cell_type": "markdown",
   "metadata": {},
   "source": [
    "#### Ensembe parameters"
   ]
  },
  {
   "cell_type": "code",
   "execution_count": 8,
   "metadata": {},
   "outputs": [
    {
     "data": {
      "text/plain": [
       "(215, 40)"
      ]
     },
     "execution_count": 8,
     "metadata": {},
     "output_type": "execute_result"
    }
   ],
   "source": [
    "ens.params.shape"
   ]
  },
  {
   "cell_type": "markdown",
   "metadata": {},
   "source": [
    "### Passing parameters to NN classifier"
   ]
  },
  {
   "cell_type": "code",
   "execution_count": 9,
   "metadata": {},
   "outputs": [
    {
     "data": {
      "application/vnd.jupyter.widget-view+json": {
       "model_id": "de2d98be0d7b4a0988512324add82527",
       "version_major": 2,
       "version_minor": 0
      },
      "text/plain": [
       "HBox(children=(FloatProgress(value=0.0, max=10.0), HTML(value='')))"
      ]
     },
     "metadata": {},
     "output_type": "display_data"
    },
    {
     "name": "stderr",
     "output_type": "stream",
     "text": [
      "/home/danillich/.local/lib/python3.8/site-packages/sklearn/linear_model/_logistic.py:938: ConvergenceWarning: lbfgs failed to converge (status=1):\n",
      "STOP: TOTAL NO. of f AND g EVALUATIONS EXCEEDS LIMIT.\n",
      "\n",
      "Increase the number of iterations (max_iter) or scale the data as shown in:\n",
      "    https://scikit-learn.org/stable/modules/preprocessing.html\n",
      "Please also refer to the documentation for alternative solver options:\n",
      "    https://scikit-learn.org/stable/modules/linear_model.html#logistic-regression\n",
      "  n_iter_i = _check_optimize_result(\n"
     ]
    },
    {
     "name": "stdout",
     "output_type": "stream",
     "text": [
      "\n",
      "Average accuracy: 0.9166666666666667\n",
      "Average loss: 0.46128662653907854\n",
      "Loss std: 0.352441584641223\n"
     ]
    }
   ],
   "source": [
    "kfold = StratifiedKFold(n_splits=10, shuffle=True, random_state=42)\n",
    "\n",
    "scores = []\n",
    "accs = []\n",
    "\n",
    "for train_idx, test_idx in tqdm(kfold.split(ens.params, Y), total=10):\n",
    "    x_train, x_test = ens.params[train_idx], ens.params[test_idx]\n",
    "    y_train, y_test = Y[train_idx], Y[test_idx]\n",
    "    \n",
    "    model = skllm.LogisticRegression(max_iter=15000)\n",
    "    model.fit(x_train, y_train)\n",
    "    y_pred = model.predict_proba(x_test)\n",
    "    scores.append(sklearn.metrics.log_loss(y_test, y_pred))\n",
    "    accs.append(np.sum(y_test == model.predict(x_test))/y_test.shape[0])\n",
    "    \n",
    "print('Average accuracy:', np.mean(accs))\n",
    "print('Average loss:', np.mean(scores))\n",
    "print('Loss std:', np.std(scores))"
   ]
  },
  {
   "cell_type": "code",
   "execution_count": 10,
   "metadata": {},
   "outputs": [
    {
     "data": {
      "text/plain": [
       "[(0.9545454545454546, 0.3538549559070722),\n",
       " (0.8636363636363636, 0.9365371684184173),\n",
       " (0.8181818181818182, 1.2359242989229446),\n",
       " (0.9090909090909091, 0.30171338808850096),\n",
       " (0.9545454545454546, 0.20142213032561898),\n",
       " (1.0, 0.04256645180542136),\n",
       " (0.8571428571428571, 0.549906913461208),\n",
       " (0.9047619047619048, 0.2801921701447716),\n",
       " (0.9523809523809523, 0.1639596323465385),\n",
       " (0.9523809523809523, 0.5467891559702914)]"
      ]
     },
     "execution_count": 10,
     "metadata": {},
     "output_type": "execute_result"
    }
   ],
   "source": [
    "list(zip(accs, scores))"
   ]
  },
  {
   "cell_type": "markdown",
   "metadata": {},
   "source": [
    "### Passing parameters to 2NN classifier"
   ]
  },
  {
   "cell_type": "code",
   "execution_count": 11,
   "metadata": {},
   "outputs": [
    {
     "data": {
      "application/vnd.jupyter.widget-view+json": {
       "model_id": "668c63f4577d4ca1ba9a8f4202e09596",
       "version_major": 2,
       "version_minor": 0
      },
      "text/plain": [
       "HBox(children=(FloatProgress(value=0.0, max=10.0), HTML(value='')))"
      ]
     },
     "metadata": {},
     "output_type": "display_data"
    },
    {
     "name": "stdout",
     "output_type": "stream",
     "text": [
      "\n",
      "Average accuracy: 0.9396103896103897\n",
      "Average loss: 0.2007842685974252\n",
      "Loss std: 0.1290945923370438\n"
     ]
    }
   ],
   "source": [
    "kfold = StratifiedKFold(n_splits=10, shuffle=True, random_state=42)\n",
    "\n",
    "scores = []\n",
    "accs = []\n",
    "\n",
    "for train_idx, test_idx in tqdm(kfold.split(ens.params, Y), total=10):\n",
    "    x_train, x_test = ens.params[train_idx], ens.params[test_idx]\n",
    "    y_train, y_test = Y[train_idx], Y[test_idx]\n",
    "    \n",
    "    model = MLPClassifier(hidden_layer_sizes=(60), max_iter=5000, activation='logistic')\n",
    "    model.fit(x_train, y_train)\n",
    "    y_pred = model.predict_proba(x_test)\n",
    "    scores.append(sklearn.metrics.log_loss(y_test, y_pred))\n",
    "    accs.append(np.sum(y_test == model.predict(x_test))/y_test.shape[0])\n",
    "    \n",
    "print('Average accuracy:', np.mean(accs))\n",
    "print('Average loss:', np.mean(scores))\n",
    "print('Loss std:', np.std(scores))"
   ]
  },
  {
   "cell_type": "code",
   "execution_count": 12,
   "metadata": {},
   "outputs": [
    {
     "data": {
      "text/plain": [
       "[(0.9545454545454546, 0.1975507367894216),\n",
       " (0.9090909090909091, 0.2952264053909483),\n",
       " (0.8181818181818182, 0.4824252622071301),\n",
       " (1.0, 0.04701173056594943),\n",
       " (1.0, 0.05277170243147413),\n",
       " (1.0, 0.05967297784939364),\n",
       " (0.9523809523809523, 0.24035558212767333),\n",
       " (0.9047619047619048, 0.29637901994522603),\n",
       " (0.9047619047619048, 0.1607379456018264),\n",
       " (0.9523809523809523, 0.17571132306520929)]"
      ]
     },
     "execution_count": 12,
     "metadata": {},
     "output_type": "execute_result"
    }
   ],
   "source": [
    "list(zip(accs, scores))"
   ]
  },
  {
   "cell_type": "markdown",
   "metadata": {},
   "source": [
    "# Baseline NN + NN classfifier"
   ]
  },
  {
   "cell_type": "code",
   "execution_count": 13,
   "metadata": {},
   "outputs": [
    {
     "data": {
      "application/vnd.jupyter.widget-view+json": {
       "model_id": "8b39eb87c58146bca54f3981606b0c4a",
       "version_major": 2,
       "version_minor": 0
      },
      "text/plain": [
       "HBox(children=(FloatProgress(value=0.0, max=10.0), HTML(value='')))"
      ]
     },
     "metadata": {},
     "output_type": "display_data"
    },
    {
     "name": "stdout",
     "output_type": "stream",
     "text": [
      "\n",
      "Average accuracy: 0.879004329004329\n",
      "Average loss: 0.3839363513344748\n",
      "Loss std: 0.169895821738764\n"
     ]
    }
   ],
   "source": [
    "kfold = StratifiedKFold(n_splits=10, shuffle=True, random_state=42)\n",
    "\n",
    "scores = []\n",
    "accs = []\n",
    "\n",
    "n_hid_features = ens.params.shape[1]\n",
    "n_hid_features = 100\n",
    "\n",
    "for train_idx, test_idx in tqdm(kfold.split(X, Y), total=10):\n",
    "    x_train, x_test = X[train_idx], X[test_idx]\n",
    "    y_train, y_test = Y[train_idx], Y[test_idx]\n",
    "    \n",
    "    model = MLPClassifier(hidden_layer_sizes=(n_hid_features), max_iter=5000, activation='logistic')\n",
    "    model.fit(x_train, y_train)\n",
    "    y_pred = model.predict_proba(x_test)\n",
    "    scores.append(sklearn.metrics.log_loss(y_test, y_pred))\n",
    "    accs.append(np.sum(y_test == model.predict(x_test))/y_test.shape[0])\n",
    "    \n",
    "print('Average accuracy:', np.mean(accs))\n",
    "print('Average loss:', np.mean(scores))\n",
    "print('Loss std:', np.std(scores))"
   ]
  },
  {
   "cell_type": "code",
   "execution_count": 14,
   "metadata": {},
   "outputs": [
    {
     "data": {
      "text/plain": [
       "[(0.9545454545454546, 0.160677469831277),\n",
       " (0.8636363636363636, 0.552347357965359),\n",
       " (0.7272727272727273, 0.5348462748221415),\n",
       " (0.9090909090909091, 0.305399184254056),\n",
       " (0.9545454545454546, 0.11183353219314895),\n",
       " (0.9047619047619048, 0.2482955992122581),\n",
       " (0.8571428571428571, 0.5221259808574545),\n",
       " (0.9523809523809523, 0.2921365345035005),\n",
       " (0.8571428571428571, 0.5210217125079832),\n",
       " (0.8095238095238095, 0.5906798671975685)]"
      ]
     },
     "execution_count": 14,
     "metadata": {},
     "output_type": "execute_result"
    }
   ],
   "source": [
    "list(zip(accs, scores))"
   ]
  },
  {
   "cell_type": "markdown",
   "metadata": {},
   "source": [
    "# Baseline NN + 2NN classfifier"
   ]
  },
  {
   "cell_type": "code",
   "execution_count": 15,
   "metadata": {},
   "outputs": [
    {
     "data": {
      "application/vnd.jupyter.widget-view+json": {
       "model_id": "f9a130103b0a43f4a3b039ec3dce148c",
       "version_major": 2,
       "version_minor": 0
      },
      "text/plain": [
       "HBox(children=(FloatProgress(value=0.0, max=10.0), HTML(value='')))"
      ]
     },
     "metadata": {},
     "output_type": "display_data"
    },
    {
     "name": "stdout",
     "output_type": "stream",
     "text": [
      "\n",
      "Average accuracy: 0.865151515151515\n",
      "Average loss: 0.4239846662932031\n",
      "Loss std: 0.16681417329219622\n"
     ]
    }
   ],
   "source": [
    "kfold = StratifiedKFold(n_splits=10, shuffle=True, random_state=42)\n",
    "\n",
    "scores = []\n",
    "accs = []\n",
    "\n",
    "n_hid_features = ens.params.shape[1]\n",
    "\n",
    "for train_idx, test_idx in tqdm(kfold.split(X, Y), total=10):\n",
    "    x_train, x_test = X[train_idx], X[test_idx]\n",
    "    y_train, y_test = Y[train_idx], Y[test_idx]\n",
    "    \n",
    "    model = MLPClassifier(hidden_layer_sizes=(100, n_hid_features), max_iter=5000, activation='logistic')\n",
    "    model.fit(x_train, y_train)\n",
    "    y_pred = model.predict_proba(x_test)\n",
    "    scores.append(sklearn.metrics.log_loss(y_test, y_pred))\n",
    "    accs.append(np.sum(y_test == model.predict(x_test))/y_test.shape[0])\n",
    "\n",
    "print('Average accuracy:', np.mean(accs))\n",
    "print('Average loss:', np.mean(scores))\n",
    "print('Loss std:', np.std(scores))"
   ]
  },
  {
   "cell_type": "code",
   "execution_count": 16,
   "metadata": {},
   "outputs": [
    {
     "data": {
      "text/plain": [
       "[(0.8636363636363636, 0.28540994723664315),\n",
       " (0.8181818181818182, 0.4441591157492482),\n",
       " (0.7727272727272727, 0.5717847803649971),\n",
       " (0.9090909090909091, 0.2689297669271284),\n",
       " (0.9545454545454546, 0.13663735077600023),\n",
       " (0.9047619047619048, 0.29135985165845774),\n",
       " (0.9047619047619048, 0.6306153702260675),\n",
       " (0.8571428571428571, 0.39190810003932114),\n",
       " (0.8571428571428571, 0.6141173328381226),\n",
       " (0.8095238095238095, 0.6049250471160449)]"
      ]
     },
     "execution_count": 16,
     "metadata": {},
     "output_type": "execute_result"
    }
   ],
   "source": [
    "list(zip(accs, scores))"
   ]
  },
  {
   "cell_type": "markdown",
   "metadata": {},
   "source": [
    "# Ensemble with LASSO"
   ]
  },
  {
   "cell_type": "code",
   "execution_count": 17,
   "metadata": {},
   "outputs": [],
   "source": [
    "params = ens.params.copy()\n",
    "labels = Y.copy()\n",
    "\n",
    "for i in range(params.shape[1]):\n",
    "    tmp = np.linalg.norm(params[:, i])\n",
    "    if tmp > 0:\n",
    "        params[:, i] /= tmp \n",
    "labels = labels/np.linalg.norm(labels)\n",
    "\n",
    "X_train, X_test, y_train, y_test = sklms.train_test_split(params, labels, test_size=0.3, random_state=42)"
   ]
  },
  {
   "cell_type": "code",
   "execution_count": 18,
   "metadata": {},
   "outputs": [
    {
     "data": {
      "text/plain": [
       "LassoCV(alphas=None, copy_X=True, cv=5, eps=0.001, fit_intercept=True,\n",
       "        max_iter=5000, n_alphas=100, n_jobs=None, normalize=False,\n",
       "        positive=False, precompute='auto', random_state=None,\n",
       "        selection='cyclic', tol=0.0001, verbose=False)"
      ]
     },
     "execution_count": 18,
     "metadata": {},
     "output_type": "execute_result"
    }
   ],
   "source": [
    "lasso = skllm.LassoCV(cv=5, max_iter=5000)\n",
    "lasso.fit(X_train, y_train)"
   ]
  },
  {
   "cell_type": "code",
   "execution_count": 19,
   "metadata": {},
   "outputs": [
    {
     "data": {
      "text/plain": [
       "array([ 0.00000000e+00,  2.81230544e-01, -6.03628525e-02, -7.69210616e-02,\n",
       "       -2.56637057e-01, -2.24611130e-01,  0.00000000e+00,  0.00000000e+00,\n",
       "        2.49561867e-01,  3.90426617e-15, -1.91343030e+00, -4.06381022e-01,\n",
       "        0.00000000e+00,  0.00000000e+00,  0.00000000e+00, -2.27815620e-01,\n",
       "        1.85405509e-01,  0.00000000e+00,  2.13815569e-01, -0.00000000e+00,\n",
       "        0.00000000e+00, -5.38589443e-03, -9.93059019e-02, -0.00000000e+00,\n",
       "       -6.85049864e-01,  0.00000000e+00,  1.63345674e-02,  2.83496659e-02,\n",
       "        0.00000000e+00,  0.00000000e+00,  0.00000000e+00,  2.09666334e-01,\n",
       "       -6.22806780e-02,  0.00000000e+00, -3.46331121e-01,  0.00000000e+00,\n",
       "        3.15132304e-01,  1.16843634e-01, -0.00000000e+00,  1.37413137e+00])"
      ]
     },
     "execution_count": 19,
     "metadata": {},
     "output_type": "execute_result"
    }
   ],
   "source": [
    "lasso.coef_"
   ]
  },
  {
   "cell_type": "code",
   "execution_count": 20,
   "metadata": {},
   "outputs": [
    {
     "data": {
      "image/png": "[encoded data removed]",
      "text/plain": [
       "<Figure size 720x720 with 2 Axes>"
      ]
     },
     "metadata": {
      "needs_background": "light"
     },
     "output_type": "display_data"
    }
   ],
   "source": [
    "fig, ax = plt.subplots(figsize=(10, 10))\n",
    "\n",
    "im = ax.matshow(params.T.dot(params))\n",
    "\n",
    "for ind in range(params.T.dot(params).shape[1]):\n",
    "    if lasso.coef_[ind] != 0:\n",
    "        ax.text(ind, ind, ens.models_indices[ind], va='center', ha='center', fontdict={'color': 'red'})\n",
    "\n",
    "fig.colorbar(im)\n",
    "plt.show()"
   ]
  },
  {
   "cell_type": "code",
   "execution_count": 21,
   "metadata": {},
   "outputs": [
    {
     "data": {
      "text/plain": [
       "0.026673306614095393"
      ]
     },
     "execution_count": 21,
     "metadata": {},
     "output_type": "execute_result"
    }
   ],
   "source": [
    "y_pred = lasso.predict(X_test)\n",
    "np.linalg.norm(y_pred - y_test)**2"
   ]
  },
  {
   "cell_type": "code",
   "execution_count": 22,
   "metadata": {},
   "outputs": [
    {
     "data": {
      "text/plain": [
       "0.6405858331386911"
      ]
     },
     "execution_count": 22,
     "metadata": {},
     "output_type": "execute_result"
    }
   ],
   "source": [
    "lasso.score(X_test, y_test)"
   ]
  },
  {
   "cell_type": "code",
   "execution_count": 23,
   "metadata": {},
   "outputs": [
    {
     "data": {
      "text/plain": [
       "0.6765928544187462"
      ]
     },
     "execution_count": 23,
     "metadata": {},
     "output_type": "execute_result"
    }
   ],
   "source": [
    "lasso.score(X_train, y_train)"
   ]
  },
  {
   "cell_type": "code",
   "execution_count": 24,
   "metadata": {},
   "outputs": [
    {
     "data": {
      "application/vnd.jupyter.widget-view+json": {
       "model_id": "4a7f965a68844487bdf34a76d442ca60",
       "version_major": 2,
       "version_minor": 0
      },
      "text/plain": [
       "HBox(children=(FloatProgress(value=0.0, max=10.0), HTML(value='')))"
      ]
     },
     "metadata": {},
     "output_type": "display_data"
    },
    {
     "name": "stderr",
     "output_type": "stream",
     "text": [
      "/home/danillich/.local/lib/python3.8/site-packages/sklearn/linear_model/_logistic.py:938: ConvergenceWarning: lbfgs failed to converge (status=1):\n",
      "STOP: TOTAL NO. of f AND g EVALUATIONS EXCEEDS LIMIT.\n",
      "\n",
      "Increase the number of iterations (max_iter) or scale the data as shown in:\n",
      "    https://scikit-learn.org/stable/modules/preprocessing.html\n",
      "Please also refer to the documentation for alternative solver options:\n",
      "    https://scikit-learn.org/stable/modules/linear_model.html#logistic-regression\n",
      "  n_iter_i = _check_optimize_result(\n"
     ]
    },
    {
     "name": "stdout",
     "output_type": "stream",
     "text": [
      "\n",
      "Average accuracy: 0.9214285714285715\n",
      "Average loss: 0.33444194194562943\n",
      "Loss std: 0.25932813960755124\n"
     ]
    }
   ],
   "source": [
    "kfold = StratifiedKFold(n_splits=10, shuffle=True, random_state=42)\n",
    "\n",
    "scores = []\n",
    "accs = []\n",
    "\n",
    "for train_idx, test_idx in tqdm(kfold.split(ens.params, Y), total=10):\n",
    "    x_train, x_test = ens.params[train_idx], ens.params[test_idx]\n",
    "    y_train, y_test = Y[train_idx], Y[test_idx]\n",
    "    \n",
    "    for i in range(lasso.coef_.shape[0]):\n",
    "        if lasso.coef_[i] == 0:\n",
    "            x_train[:, i] = np.zeros_like(x_train[:, i])\n",
    "            x_test[:, i] = np.zeros_like(x_test[:, i])\n",
    "    \n",
    "    model = skllm.LogisticRegression(max_iter=15000)\n",
    "    model.fit(x_train, y_train)\n",
    "    y_pred = model.predict_proba(x_test)\n",
    "    scores.append(sklearn.metrics.log_loss(y_test, y_pred))\n",
    "    accs.append(np.sum(y_test == model.predict(x_test))/y_test.shape[0])\n",
    "    \n",
    "print('Average accuracy:', np.mean(accs))\n",
    "print('Average loss:', np.mean(scores))\n",
    "print('Loss std:', np.std(scores))"
   ]
  },
  {
   "cell_type": "code",
   "execution_count": 25,
   "metadata": {},
   "outputs": [
    {
     "data": {
      "text/plain": [
       "array([[ 0.00000000e+00,  2.01503661e-01, -1.31290280e-01,\n",
       "        -8.88553674e-02,  7.13763350e-02,  9.24986020e-02,\n",
       "         0.00000000e+00,  0.00000000e+00, -3.94230986e-02,\n",
       "        -3.94230986e-02,  4.73930270e-01,  6.28427438e-01,\n",
       "         0.00000000e+00,  0.00000000e+00,  0.00000000e+00,\n",
       "        -4.70513349e-01, -5.14813713e-01,  0.00000000e+00,\n",
       "        -5.68507928e-01,  0.00000000e+00,  0.00000000e+00,\n",
       "        -1.33341575e-02, -5.06567933e-01,  0.00000000e+00,\n",
       "        -5.38904034e-02,  0.00000000e+00, -2.99979453e-02,\n",
       "         1.01236184e-06,  0.00000000e+00,  0.00000000e+00,\n",
       "         0.00000000e+00, -1.68983899e-02,  4.37238566e-06,\n",
       "         0.00000000e+00,  4.05577689e-01,  0.00000000e+00,\n",
       "        -2.30866906e-04, -1.96378908e-01,  0.00000000e+00,\n",
       "        -4.13193167e-01],\n",
       "       [ 0.00000000e+00, -3.38468541e-02,  7.80632320e-01,\n",
       "        -1.13893499e-01, -2.83503358e-01,  1.68847932e-01,\n",
       "         0.00000000e+00,  0.00000000e+00,  2.41319972e-02,\n",
       "         2.41319972e-02, -2.83990038e-02, -1.73735543e-01,\n",
       "         0.00000000e+00,  0.00000000e+00,  0.00000000e+00,\n",
       "         6.02818470e-01, -3.93344362e-02,  0.00000000e+00,\n",
       "         4.83884467e-01,  0.00000000e+00,  0.00000000e+00,\n",
       "         8.45715695e-01,  1.30835483e-01,  0.00000000e+00,\n",
       "         2.50687440e-01,  0.00000000e+00,  3.07486236e-01,\n",
       "        -2.82549213e-01,  0.00000000e+00,  0.00000000e+00,\n",
       "         0.00000000e+00,  1.87480495e-01,  6.67431935e-02,\n",
       "         0.00000000e+00, -1.72015388e-01,  0.00000000e+00,\n",
       "        -2.56354181e-01, -3.39398417e-02,  0.00000000e+00,\n",
       "         1.52994013e-01],\n",
       "       [ 0.00000000e+00,  3.64395457e-02, -7.99567473e-01,\n",
       "         1.31119619e-01,  2.71887879e-01, -1.64658570e-01,\n",
       "         0.00000000e+00,  0.00000000e+00,  3.25525872e-02,\n",
       "         3.25525872e-02, -3.43517484e-02, -1.31756855e-01,\n",
       "         0.00000000e+00,  0.00000000e+00,  0.00000000e+00,\n",
       "        -5.41083034e-01,  9.10233299e-02,  0.00000000e+00,\n",
       "        -4.94030641e-01,  0.00000000e+00,  0.00000000e+00,\n",
       "        -8.46485924e-01, -1.52074846e-01,  0.00000000e+00,\n",
       "         1.88282503e-01,  0.00000000e+00, -3.01347720e-01,\n",
       "         2.82546243e-01,  0.00000000e+00,  0.00000000e+00,\n",
       "         0.00000000e+00, -1.82554753e-01, -6.67551138e-02,\n",
       "         0.00000000e+00, -1.40520648e-01,  0.00000000e+00,\n",
       "         2.23853121e-01,  6.96950401e-03,  0.00000000e+00,\n",
       "         1.28122823e-01],\n",
       "       [ 0.00000000e+00, -2.04096353e-01,  1.50225433e-01,\n",
       "         7.16292474e-02, -5.97608562e-02, -9.66879640e-02,\n",
       "         0.00000000e+00,  0.00000000e+00, -1.72614858e-02,\n",
       "        -1.72614858e-02, -4.11179518e-01, -3.22935040e-01,\n",
       "         0.00000000e+00,  0.00000000e+00,  0.00000000e+00,\n",
       "         4.08777912e-01,  4.63124820e-01,  0.00000000e+00,\n",
       "         5.78654101e-01,  0.00000000e+00,  0.00000000e+00,\n",
       "         1.41043863e-02,  5.27807296e-01,  0.00000000e+00,\n",
       "        -3.85079540e-01,  0.00000000e+00,  2.38594302e-02,\n",
       "         1.95784737e-06,  0.00000000e+00,  0.00000000e+00,\n",
       "         0.00000000e+00,  1.19726484e-02,  7.54793347e-06,\n",
       "         0.00000000e+00, -9.30416532e-02,  0.00000000e+00,\n",
       "         3.27319272e-02,  2.23349246e-01,  0.00000000e+00,\n",
       "         1.32076332e-01]])"
      ]
     },
     "execution_count": 25,
     "metadata": {},
     "output_type": "execute_result"
    }
   ],
   "source": [
    "model.coef_"
   ]
  }
 ],
 "metadata": {
  "kernelspec": {
   "display_name": "Python 3",
   "language": "python",
   "name": "python3"
  },
  "language_info": {
   "codemirror_mode": {
    "name": "ipython",
    "version": 3
   },
   "file_extension": ".py",
   "mimetype": "text/x-python",
   "name": "python",
   "nbconvert_exporter": "python",
   "pygments_lexer": "ipython3",
   "version": "3.8.2"
  }
 },
 "nbformat": 4,
 "nbformat_minor": 4
}
