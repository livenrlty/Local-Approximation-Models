{
 "cells": [
  {
   "cell_type": "markdown",
   "metadata": {},
   "source": [
    "# LAM Classifier"
   ]
  },
  {
   "cell_type": "code",
   "execution_count": 1,
   "metadata": {},
   "outputs": [],
   "source": [
    "import numpy as np\n",
    "import pandas as pd\n",
    "import matplotlib.pyplot as plt\n",
    "\n",
    "import pickle\n",
    "\n",
    "import sklearn\n",
    "import sklearn.model_selection as sklms\n",
    "import sklearn.linear_model as skllm\n",
    "\n",
    "from sklearn.preprocessing import LabelEncoder\n",
    "from sklearn.model_selection import StratifiedKFold\n",
    "from sklearn.neural_network import MLPClassifier\n",
    "\n",
    "\n",
    "from lam import ar, fft, ssa, semor\n",
    "from lam import utils\n",
    "\n",
    "from ensemble import Ensemble\n",
    "\n",
    "from qpfs import qpfs\n",
    "\n",
    "from tqdm.notebook import tqdm"
   ]
  },
  {
   "cell_type": "markdown",
   "metadata": {},
   "source": [
    "### Loading and preprocessing data"
   ]
  },
  {
   "cell_type": "code",
   "execution_count": 2,
   "metadata": {},
   "outputs": [],
   "source": [
    "with open(\"data/uci/activity_and_segment.pickle\", \"rb\") as f:\n",
    "    activity_and_segment = pickle.load(f)\n",
    "    \n",
    "a_s_l = []\n",
    "for a_s in activity_and_segment:\n",
    "    if 'WALKING' in a_s[0]:\n",
    "        a_s_l.append(a_s)\n",
    "\n",
    "activity_and_segment = a_s_l"
   ]
  },
  {
   "cell_type": "code",
   "execution_count": 3,
   "metadata": {},
   "outputs": [
    {
     "name": "stdout",
     "output_type": "stream",
     "text": [
      "Data shape: (6307, 22)\n",
      "Labels shape: (6307,)\n"
     ]
    }
   ],
   "source": [
    "segments = [pair[1] for pair in activity_and_segment]\n",
    "actions = [pair[0] for pair in activity_and_segment]\n",
    "\n",
    "normalized_segments = utils.normalize_segments(segments)\n",
    "\n",
    "le = LabelEncoder()\n",
    "Y = le.fit_transform(actions)\n",
    "\n",
    "X = np.array(normalized_segments)\n",
    "\n",
    "print('Data shape:', X.shape)\n",
    "print('Labels shape:', Y.shape)"
   ]
  },
  {
   "cell_type": "markdown",
   "metadata": {},
   "source": [
    "#### Data shuffling"
   ]
  },
  {
   "cell_type": "code",
   "execution_count": 4,
   "metadata": {},
   "outputs": [],
   "source": [
    "a = np.arange(0, X.shape[0])\n",
    "np.random.shuffle(a)\n",
    "\n",
    "X = X[a]\n",
    "Y = Y[a]"
   ]
  },
  {
   "cell_type": "markdown",
   "metadata": {},
   "source": [
    "### Making an ensemble"
   ]
  },
  {
   "cell_type": "code",
   "execution_count": 5,
   "metadata": {},
   "outputs": [],
   "source": [
    "with open(\"data/semor_profiles/semor_profiles.pickle\", \"rb\") as f:\n",
    "    semor_profiles = pickle.load(f)\n",
    "\n",
    "for key, profile in semor_profiles.items():\n",
    "    semor_profiles[key] = utils.shrink_segment(profile, 20)"
   ]
  },
  {
   "cell_type": "code",
   "execution_count": 6,
   "metadata": {},
   "outputs": [
    {
     "name": "stdout",
     "output_type": "stream",
     "text": [
      "['ar_5', 'fft_4', 'ssa_10', 'semor_228', 'semor_635', 'semor_688', 'semor_331']\n"
     ]
    }
   ],
   "source": [
    "ens = Ensemble([ar.AR(5),\n",
    "                fft.FFT(4),\n",
    "                ssa.SSA(10),\n",
    "                semor.Semor(semor_profiles['walk']),\n",
    "                semor.Semor(semor_profiles['run']),\n",
    "                semor.Semor(semor_profiles['up']),\n",
    "                semor.Semor(semor_profiles['down'])])\n",
    "\n",
    "print([model.name for model in ens.models])"
   ]
  },
  {
   "cell_type": "code",
   "execution_count": 7,
   "metadata": {},
   "outputs": [
    {
     "name": "stderr",
     "output_type": "stream",
     "text": [
      "/home/danillich/.local/lib/python3.8/site-packages/statsmodels/tsa/ar_model.py:691: FutureWarning: \n",
      "statsmodels.tsa.AR has been deprecated in favor of statsmodels.tsa.AutoReg and\n",
      "statsmodels.tsa.SARIMAX.\n",
      "\n",
      "AutoReg adds the ability to specify exogenous variables, include time trends,\n",
      "and add seasonal dummies. The AutoReg API differs from AR since the model is\n",
      "treated as immutable, and so the entire specification including the lag\n",
      "length must be specified when creating the model. This change is too\n",
      "substantial to incorporate into the existing AR api. The function\n",
      "ar_select_order performs lag length selection for AutoReg models.\n",
      "\n",
      "AutoReg only estimates parameters using conditional MLE (OLS). Use SARIMAX to\n",
      "estimate ARX and related models using full MLE via the Kalman Filter.\n",
      "\n",
      "To silence this warning and continue using AR until it is removed, use:\n",
      "\n",
      "import warnings\n",
      "warnings.filterwarnings('ignore', 'statsmodels.tsa.ar_model.AR', FutureWarning)\n",
      "\n",
      "  warnings.warn(AR_DEPRECATION_WARN, FutureWarning)\n"
     ]
    }
   ],
   "source": [
    "ens.fit(X)"
   ]
  },
  {
   "cell_type": "markdown",
   "metadata": {},
   "source": [
    "#### Ensembe parameters processing and selection"
   ]
  },
  {
   "cell_type": "code",
   "execution_count": 8,
   "metadata": {},
   "outputs": [
    {
     "name": "stdout",
     "output_type": "stream",
     "text": [
      "(6307, 40)\n",
      "[20, 22, 23, 25, 27, 28, 30, 32, 33, 35, 37, 38]\n",
      "Params shape (6307, 28)\n"
     ]
    }
   ],
   "source": [
    "ens_params = ens.params.copy()\n",
    "print(ens_params.shape)\n",
    "\n",
    "deletion_list = []\n",
    "for i in range(ens_params.shape[1]):\n",
    "    if np.abs(ens_params[:, i].std()) < 1e-13:\n",
    "        deletion_list.append(i)\n",
    "print(deletion_list)\n",
    "ens_params = np.delete(ens_params, deletion_list, axis=1)\n",
    "\n",
    "for i in range(ens_params.shape[1]):\n",
    "    ens_params[:, i] -= ens_params[:, i].mean()\n",
    "    ens_params[:, i] /= ens_params[:, i].std()\n",
    "\n",
    "print('Params shape', ens_params.shape)"
   ]
  },
  {
   "cell_type": "code",
   "execution_count": 9,
   "metadata": {},
   "outputs": [
    {
     "data": {
      "text/plain": [
       "array([ 1.57723138e-16,  3.08686713e-16, -2.92914399e-17, -1.83071499e-17,\n",
       "       -4.22472691e-18, -1.77438530e-17, -4.25007527e-16, -1.80255015e-16,\n",
       "        2.42780973e-16, -1.60539622e-16,  3.54877060e-17, -3.80788718e-16,\n",
       "        1.84761390e-16, -3.92054657e-16,  5.74562859e-17,  1.51245223e-16,\n",
       "        3.11503197e-16,  6.02727705e-17, -5.09783713e-17,  9.68870704e-17,\n",
       "       -1.07026415e-16,  1.87014578e-15, -1.80255015e-17, -2.36595973e-14,\n",
       "       -2.87281430e-16, -4.46807117e-15, -1.23925323e-17, -1.34627964e-15])"
      ]
     },
     "execution_count": 9,
     "metadata": {},
     "output_type": "execute_result"
    }
   ],
   "source": [
    "ens_params.mean(axis=0)"
   ]
  },
  {
   "cell_type": "code",
   "execution_count": 10,
   "metadata": {},
   "outputs": [
    {
     "data": {
      "text/plain": [
       "array([1., 1., 1., 1., 1., 1., 1., 1., 1., 1., 1., 1., 1., 1., 1., 1., 1.,\n",
       "       1., 1., 1., 1., 1., 1., 1., 1., 1., 1., 1.])"
      ]
     },
     "execution_count": 10,
     "metadata": {},
     "output_type": "execute_result"
    }
   ],
   "source": [
    "ens_params.std(axis=0)"
   ]
  },
  {
   "cell_type": "code",
   "execution_count": 11,
   "metadata": {},
   "outputs": [
    {
     "name": "stdout",
     "output_type": "stream",
     "text": [
      "Constructing the problem...\n",
      "Similarity measure: correl, feature relevance measure: correl\n",
      "Problem has been constructed.\n",
      "Solving the QP problem...\n",
      "The problem has been solved!\n",
      "Problem status: optimal\n"
     ]
    }
   ],
   "source": [
    "verbose = True\n",
    "\n",
    "Q, b = qpfs.create_opt_problem(ens_params, Y, sim='correl', rel='correl', verbose=True)\n",
    "qp_score = qpfs.solve_opt_problem(Q, b, verbose)\n",
    "\n",
    "idx_qp = qp_score.argsort()[::-1]"
   ]
  },
  {
   "cell_type": "markdown",
   "metadata": {},
   "source": [
    "# GLM"
   ]
  },
  {
   "cell_type": "code",
   "execution_count": 12,
   "metadata": {},
   "outputs": [],
   "source": [
    "def fit_logreg(data, target, i, n_splits=10):\n",
    "    scores = []\n",
    "    accs = []\n",
    "\n",
    "    kfold = StratifiedKFold(n_splits=n_splits, shuffle=True, random_state=43)\n",
    "    \n",
    "    for train_idx, test_idx in kfold.split(data, target):\n",
    "        x_train, x_test = data[train_idx], data[test_idx]\n",
    "        y_train, y_test = target[train_idx], target[test_idx]\n",
    "    \n",
    "        Q, b = qpfs.create_opt_problem(x_train, y_train, sim='correl', rel='correl')\n",
    "        qp_score = qpfs.solve_opt_problem(Q, b)\n",
    "        feature_mask = qp_score.argsort()[::-1][:i]\n",
    "        \n",
    "        x_train = x_train[:, feature_mask]\n",
    "        x_test = x_test[:, feature_mask]\n",
    "\n",
    "        _, l, _ = np.linalg.svd(x_train)\n",
    "\n",
    "        model = skllm.LogisticRegression(max_iter=15000)\n",
    "        model.fit(x_train, y_train)\n",
    "        y_pred = model.predict_proba(x_test)\n",
    "        scores.append(sklearn.metrics.log_loss(y_test, y_pred))\n",
    "        accs.append(np.sum(y_test == model.predict(x_test))/y_test.shape[0])\n",
    "        \n",
    "    return np.array(accs), np.array(scores), l"
   ]
  },
  {
   "cell_type": "code",
   "execution_count": 13,
   "metadata": {},
   "outputs": [
    {
     "data": {
      "application/vnd.jupyter.widget-view+json": {
       "model_id": "94fc13a316664b4990e2e3284f508594",
       "version_major": 2,
       "version_minor": 0
      },
      "text/plain": [
       "HBox(children=(FloatProgress(value=0.0, max=27.0), HTML(value='')))"
      ]
     },
     "metadata": {},
     "output_type": "display_data"
    },
    {
     "name": "stdout",
     "output_type": "stream",
     "text": [
      "\n"
     ]
    }
   ],
   "source": [
    "accs_glm = []\n",
    "scores_glm = []\n",
    "lambdas_glm = []\n",
    "\n",
    "for i in tqdm(range(1, qp_score.shape[0])):\n",
    "    a, s, l = fit_logreg(ens_params, Y, i)\n",
    "    \n",
    "    lambdas_glm.append(l)\n",
    "    accs_glm.append((i, a.mean(), a.std()))    \n",
    "    scores_glm.append((i, s.mean(), s.std()))"
   ]
  },
  {
   "cell_type": "code",
   "execution_count": 14,
   "metadata": {},
   "outputs": [
    {
     "data": {
      "image/png": "[encoded data removed]",
      "text/plain": [
       "<Figure size 576x360 with 1 Axes>"
      ]
     },
     "metadata": {
      "needs_background": "light"
     },
     "output_type": "display_data"
    }
   ],
   "source": [
    "plt.figure(figsize=(8, 5))\n",
    "plt.plot([a[0] for a in accs_glm], [a[1] for a in accs_glm])\n",
    "plt.show()"
   ]
  },
  {
   "cell_type": "code",
   "execution_count": 15,
   "metadata": {},
   "outputs": [
    {
     "data": {
      "image/png": "[encoded data removed]",
      "text/plain": [
       "<Figure size 576x360 with 1 Axes>"
      ]
     },
     "metadata": {
      "needs_background": "light"
     },
     "output_type": "display_data"
    }
   ],
   "source": [
    "plt.figure(figsize=(8, 5))\n",
    "plt.plot([a[0] for a in scores_glm], [a[1] for a in scores_glm])\n",
    "plt.errorbar([a[0] for a in scores_glm],\n",
    "             [a[1] for a in scores_glm],\n",
    "             yerr=[a[2] for a in scores_glm],\n",
    "             ecolor='lightblue')\n",
    "plt.show()"
   ]
  },
  {
   "cell_type": "code",
   "execution_count": 16,
   "metadata": {
    "collapsed": true,
    "jupyter": {
     "outputs_hidden": true
    }
   },
   "outputs": [
    {
     "data": {
      "text/plain": [
       "[array([75.2464291]),\n",
       " array([96.5239938, 44.9619672]),\n",
       " array([102.2714699 ,  75.70243682,  28.38960336]),\n",
       " array([102.33331556,  84.46239155,  66.07010767,  25.92092193]),\n",
       " array([106.48830242, 100.63628458,  68.1873394 ,  39.13916985,\n",
       "         25.81156046]),\n",
       " array([113.36557858, 104.86769388,  71.41376054,  56.18357168,\n",
       "         38.94320831,  18.36622346]),\n",
       " array([126.66707642, 112.98251877,  72.80737963,  56.82140027,\n",
       "         42.82163673,  18.45731649,  11.55213949]),\n",
       " array([1.46271561e+02, 1.13069905e+02, 7.34175772e+01, 5.71628122e+01,\n",
       "        4.44362111e+01, 1.85208340e+01, 1.33829993e+01, 1.03218008e-12]),\n",
       " array([1.64030657e+02, 1.13091120e+02, 7.37502577e+01, 5.73695836e+01,\n",
       "        4.52778604e+01, 1.85667953e+01, 1.41904312e+01, 1.98574524e-12,\n",
       "        1.02620422e-12]),\n",
       " array([1.80234317e+02, 1.13100664e+02, 7.39580135e+01, 5.75069091e+01,\n",
       "        4.57866221e+01, 1.86012725e+01, 1.46418991e+01, 2.12033115e-12,\n",
       "        1.18904487e-12, 6.11279727e-13]),\n",
       " array([1.80425561e+02, 1.15694797e+02, 8.76137702e+01, 6.41381516e+01,\n",
       "        4.86330268e+01, 4.21141532e+01, 1.56503184e+01, 1.41680989e+01,\n",
       "        2.12032480e-12, 1.18897716e-12, 6.11127565e-13]),\n",
       " array([1.80429517e+02, 1.18347383e+02, 9.65375586e+01, 7.53750699e+01,\n",
       "        5.11010855e+01, 4.80821279e+01, 3.45671914e+01, 1.48513886e+01,\n",
       "        8.48735478e+00, 2.12020641e-12, 1.18920642e-12, 6.10783375e-13]),\n",
       " array([1.84676034e+02, 1.18659455e+02, 9.69540015e+01, 7.71380897e+01,\n",
       "        6.37097759e+01, 5.04075551e+01, 4.60979601e+01, 3.44463510e+01,\n",
       "        1.24106279e+01, 8.48699914e+00, 2.11947763e-12, 1.18996901e-12,\n",
       "        6.11027457e-13]),\n",
       " array([1.90097287e+02, 1.19240231e+02, 9.86465530e+01, 8.81509177e+01,\n",
       "        7.29879373e+01, 5.06170673e+01, 4.68446911e+01, 3.44648674e+01,\n",
       "        1.24714181e+01, 8.49000460e+00, 4.26451549e+00, 2.11984136e-12,\n",
       "        1.18839897e-12, 6.11177319e-13]),\n",
       " array([1.97418098e+02, 1.20279209e+02, 1.02618886e+02, 9.12893397e+01,\n",
       "        7.31870134e+01, 5.12049080e+01, 4.93134838e+01, 3.44742970e+01,\n",
       "        3.18836318e+01, 1.04081212e+01, 8.34002386e+00, 4.26075720e+00,\n",
       "        2.12014570e-12, 1.18948653e-12, 6.10858464e-13]),\n",
       " array([2.05864344e+02, 1.21944928e+02, 1.07351468e+02, 9.23733646e+01,\n",
       "        7.32538968e+01, 5.36554780e+01, 5.00425463e+01, 3.65828883e+01,\n",
       "        3.44709441e+01, 1.06829883e+01, 8.97032573e+00, 8.24509052e+00,\n",
       "        4.26010225e+00, 2.11865624e-12, 1.18736974e-12, 6.11030533e-13]),\n",
       " array([2.14876862e+02, 1.24272949e+02, 1.10357802e+02, 9.31028384e+01,\n",
       "        7.34698739e+01, 5.54012036e+01, 5.02297111e+01, 3.86124291e+01,\n",
       "        3.45952259e+01, 1.49039155e+01, 9.20303135e+00, 8.69222947e+00,\n",
       "        7.95314153e+00, 4.25992686e+00, 2.11961543e-12, 1.18576800e-12,\n",
       "        6.09702776e-13]),\n",
       " array([2.20681178e+02, 1.25973920e+02, 1.10869439e+02, 9.31350494e+01,\n",
       "        7.42685803e+01, 5.78585946e+01, 5.13510917e+01, 4.89584518e+01,\n",
       "        3.84266715e+01, 3.09757294e+01, 1.49029976e+01, 8.96640741e+00,\n",
       "        8.68883462e+00, 7.88413194e+00, 4.25991946e+00, 2.11926079e-12,\n",
       "        1.18770469e-12, 6.09727942e-13]),\n",
       " array([2.29834407e+02, 1.29038740e+02, 1.12498557e+02, 9.34578828e+01,\n",
       "        7.44496838e+01, 5.95786263e+01, 5.17641483e+01, 4.89680070e+01,\n",
       "        3.92791055e+01, 3.09905066e+01, 1.56903400e+01, 1.02293117e+01,\n",
       "        8.93434781e+00, 8.13332243e+00, 4.25996430e+00, 2.59262837e+00,\n",
       "        2.12018003e-12, 1.18823184e-12, 6.11113898e-13]),\n",
       " array([2.31310857e+02, 1.36630737e+02, 1.12505883e+02, 9.56284423e+01,\n",
       "        7.49242136e+01, 6.45156415e+01, 5.53450658e+01, 5.15750040e+01,\n",
       "        3.99520898e+01, 3.41490330e+01, 3.09690156e+01, 1.55910911e+01,\n",
       "        1.02209920e+01, 8.83396690e+00, 8.06750296e+00, 4.25834463e+00,\n",
       "        2.59142123e+00, 2.11770214e-12, 1.18907170e-12, 6.08129718e-13]),\n",
       " array([2.34582321e+02, 1.43733439e+02, 1.12762534e+02, 9.68786686e+01,\n",
       "        7.75523856e+01, 6.97479945e+01, 5.64911372e+01, 5.15823897e+01,\n",
       "        3.99965758e+01, 3.42113015e+01, 3.12788342e+01, 2.51891508e+01,\n",
       "        1.55104016e+01, 1.02175307e+01, 8.80536163e+00, 8.06148502e+00,\n",
       "        4.25834147e+00, 2.59039335e+00, 2.12090420e-12, 1.18983541e-12,\n",
       "        6.12575300e-13]),\n",
       " array([2.36442921e+02, 1.53350308e+02, 1.12773556e+02, 9.89457187e+01,\n",
       "        7.93485517e+01, 7.18971189e+01, 5.69350538e+01, 5.16028474e+01,\n",
       "        4.11476305e+01, 3.79572284e+01, 3.14479596e+01, 2.72186633e+01,\n",
       "        1.87832803e+01, 1.55104016e+01, 1.02174949e+01, 8.78361450e+00,\n",
       "        8.05965805e+00, 4.25129759e+00, 2.59037935e+00, 2.12072953e-12,\n",
       "        1.18512697e-12, 6.09874602e-13]),\n",
       " array([2.39874503e+02, 1.62440239e+02, 1.12851982e+02, 1.00521225e+02,\n",
       "        8.13309176e+01, 7.25463014e+01, 5.71471287e+01, 5.16031257e+01,\n",
       "        4.11587948e+01, 3.79587092e+01, 3.18731773e+01, 2.86651029e+01,\n",
       "        2.03194521e+01, 1.56227057e+01, 1.52559232e+01, 1.02147963e+01,\n",
       "        8.76647693e+00, 8.05899031e+00, 4.25010001e+00, 2.59037328e+00,\n",
       "        2.12089246e-12, 1.18947821e-12, 6.11817006e-13]),\n",
       " array([2.42172894e+02, 1.70585654e+02, 1.12944708e+02, 1.01691767e+02,\n",
       "        8.23677818e+01, 7.31009483e+01, 5.72739700e+01, 5.16098322e+01,\n",
       "        4.51979036e+01, 3.93096222e+01, 3.33111645e+01, 3.04031780e+01,\n",
       "        2.51144318e+01, 1.89238844e+01, 1.55596354e+01, 1.51086586e+01,\n",
       "        1.02146066e+01, 8.76406806e+00, 8.05821158e+00, 4.24987547e+00,\n",
       "        2.58857708e+00, 2.11735335e-12, 1.18463762e-12, 6.09206968e-13]),\n",
       " array([2.48020229e+02, 1.74210533e+02, 1.13267002e+02, 1.01694753e+02,\n",
       "        8.51125097e+01, 7.31385170e+01, 5.75415841e+01, 5.29099991e+01,\n",
       "        4.87859131e+01, 3.95242918e+01, 3.33181066e+01, 3.09338793e+01,\n",
       "        2.65221010e+01, 2.17150276e+01, 1.82795832e+01, 1.55590956e+01,\n",
       "        1.50085107e+01, 1.00087301e+01, 8.60293950e+00, 8.04832514e+00,\n",
       "        4.24926847e+00, 2.58768169e+00, 2.11434119e-12, 1.18811404e-12,\n",
       "        6.08628297e-13]),\n",
       " array([2.53684973e+02, 1.77823004e+02, 1.13554303e+02, 1.01700734e+02,\n",
       "        8.51322273e+01, 7.32777785e+01, 6.41946751e+01, 5.38188702e+01,\n",
       "        4.88457399e+01, 3.95263946e+01, 3.33416928e+01, 3.09341234e+01,\n",
       "        2.65233524e+01, 2.46334630e+01, 2.17147789e+01, 1.82789255e+01,\n",
       "        1.55400457e+01, 1.50055485e+01, 9.99396257e+00, 8.57667522e+00,\n",
       "        8.03117909e+00, 4.24032982e+00, 2.58498602e+00, 2.12070130e-12,\n",
       "        1.18744109e-12, 6.10950678e-13]),\n",
       " array([2.59945867e+02, 1.81109422e+02, 1.13853346e+02, 1.01708383e+02,\n",
       "        8.51651383e+01, 7.39680599e+01, 7.04305551e+01, 5.40278114e+01,\n",
       "        4.88654462e+01, 3.95281546e+01, 3.33905016e+01, 3.09352210e+01,\n",
       "        2.96936025e+01, 2.65213840e+01, 2.17148414e+01, 1.82791806e+01,\n",
       "        1.55427842e+01, 1.50060242e+01, 9.99424298e+00, 8.57732304e+00,\n",
       "        8.03194778e+00, 4.25772228e+00, 2.76429005e+00, 2.58062992e+00,\n",
       "        2.11918171e-12, 1.19061446e-12, 6.09966355e-13])]"
      ]
     },
     "execution_count": 16,
     "metadata": {},
     "output_type": "execute_result"
    }
   ],
   "source": [
    "lambdas_glm"
   ]
  },
  {
   "cell_type": "markdown",
   "metadata": {},
   "source": [
    "# 2NN"
   ]
  },
  {
   "cell_type": "code",
   "execution_count": 17,
   "metadata": {},
   "outputs": [],
   "source": [
    "def fit_MLP(data, target, n_hid, n_splits=10):\n",
    "    scores = []\n",
    "    accs = []\n",
    "\n",
    "    kfold = StratifiedKFold(n_splits=n_splits, shuffle=True, random_state=40)\n",
    "    \n",
    "    for train_idx, test_idx in kfold.split(data, target):\n",
    "        x_train, x_test = data[train_idx], data[test_idx]\n",
    "        y_train, y_test = target[train_idx], target[test_idx]\n",
    "    \n",
    "        model = MLPClassifier(hidden_layer_sizes=(n_hid), max_iter=5000, activation='logistic')\n",
    "        model.fit(x_train, y_train)\n",
    "        \n",
    "        _, l, _ = np.linalg.svd(model.coefs_[0])\n",
    "        \n",
    "        y_pred = model.predict_proba(x_test)\n",
    "        scores.append(sklearn.metrics.log_loss(y_test, y_pred))\n",
    "        accs.append(np.sum(y_test == model.predict(x_test))/y_test.shape[0])\n",
    "        \n",
    "    return np.array(accs), np.array(scores), l"
   ]
  },
  {
   "cell_type": "code",
   "execution_count": 18,
   "metadata": {},
   "outputs": [
    {
     "data": {
      "application/vnd.jupyter.widget-view+json": {
       "model_id": "4a1e592b4ba74392a0fdc6e4fa8c3676",
       "version_major": 2,
       "version_minor": 0
      },
      "text/plain": [
       "HBox(children=(FloatProgress(value=0.0, max=27.0), HTML(value='')))"
      ]
     },
     "metadata": {},
     "output_type": "display_data"
    },
    {
     "name": "stdout",
     "output_type": "stream",
     "text": [
      "\n"
     ]
    }
   ],
   "source": [
    "accs_base = []\n",
    "\n",
    "scores_base = []\n",
    "lambdas_base = []\n",
    "\n",
    "for i in tqdm(range(1, qp_score.shape[0])):\n",
    "    a, s, l = fit_MLP(X, Y, i)\n",
    "\n",
    "    lambdas_base.append(l)\n",
    "    accs_base.append((i, a.mean(), a.std()))    \n",
    "    scores_base.append((i, s.mean(), s.std()))"
   ]
  },
  {
   "cell_type": "code",
   "execution_count": 19,
   "metadata": {},
   "outputs": [
    {
     "data": {
      "image/png": "[encoded data removed]",
      "text/plain": [
       "<Figure size 576x360 with 1 Axes>"
      ]
     },
     "metadata": {
      "needs_background": "light"
     },
     "output_type": "display_data"
    }
   ],
   "source": [
    "plt.figure(figsize=(8, 5))\n",
    "plt.plot([a[0] for a in accs_base], [a[1] for a in accs_base])\n",
    "plt.show()"
   ]
  },
  {
   "cell_type": "code",
   "execution_count": 20,
   "metadata": {},
   "outputs": [
    {
     "data": {
      "image/png": "[encoded data removed]",
      "text/plain": [
       "<Figure size 576x360 with 1 Axes>"
      ]
     },
     "metadata": {
      "needs_background": "light"
     },
     "output_type": "display_data"
    }
   ],
   "source": [
    "plt.figure(figsize=(8, 5))\n",
    "plt.plot([a[0] for a in scores_base], [a[1] for a in scores_base])\n",
    "plt.errorbar([a[0] for a in scores_base],\n",
    "             [a[1] for a in scores_base],\n",
    "             yerr=[a[2] for a in scores_base],\n",
    "             ecolor='lightblue')\n",
    "plt.show()"
   ]
  },
  {
   "cell_type": "code",
   "execution_count": 21,
   "metadata": {
    "collapsed": true,
    "jupyter": {
     "outputs_hidden": true
    }
   },
   "outputs": [
    {
     "data": {
      "text/plain": [
       "[array([5.81108009]),\n",
       " array([6.7680169, 6.2234645]),\n",
       " array([7.58125953, 5.48922634, 1.12460337]),\n",
       " array([9.04198019, 6.3187683 , 2.13997731, 0.89243622]),\n",
       " array([7.81410945, 6.00420352, 0.71069816, 0.5608662 , 0.46231168]),\n",
       " array([9.00018272, 6.71754497, 1.11755446, 0.96020934, 0.68743218,\n",
       "        0.55144444]),\n",
       " array([11.57472042,  8.48343059,  7.09823733,  5.35466874,  3.10691789,\n",
       "         1.94287243,  0.77836595]),\n",
       " array([10.68418183,  7.22020999,  5.77747613,  2.90205718,  1.78211258,\n",
       "         1.37029755,  0.72267533,  0.42827905]),\n",
       " array([9.41143239, 6.76233177, 1.51281409, 1.04158058, 0.59885033,\n",
       "        0.58925796, 0.47896992, 0.40304116, 0.30692581]),\n",
       " array([9.71190832, 7.29999871, 2.07127943, 1.26198263, 0.77389991,\n",
       "        0.69035297, 0.53587566, 0.4666534 , 0.39770542, 0.32659605]),\n",
       " array([11.8789742 ,  7.61545462,  6.04725874,  2.53158219,  1.87887722,\n",
       "         1.41627617,  0.9259744 ,  0.7384945 ,  0.57876062,  0.44560308,\n",
       "         0.25296522]),\n",
       " array([11.37526957,  7.38751066,  4.94416634,  3.36674476,  2.21465547,\n",
       "         1.44974714,  1.01038572,  0.59462753,  0.50639335,  0.46672216,\n",
       "         0.42558469,  0.34279903]),\n",
       " array([8.93783355, 7.25562715, 1.27688245, 0.85016089, 0.73231963,\n",
       "        0.71994846, 0.66745679, 0.5484046 , 0.49987832, 0.42989402,\n",
       "        0.38326405, 0.30228915, 0.24648987]),\n",
       " array([17.21955592, 14.15846451, 13.54776636, 11.30336099,  7.78862334,\n",
       "         7.09015622,  5.5574352 ,  4.4860756 ,  2.8836141 ,  2.30882144,\n",
       "         1.5852948 ,  1.13866062,  0.74922505,  0.43941974]),\n",
       " array([16.89468339, 13.72288009, 12.39966491, 10.18576755,  7.78349446,\n",
       "         5.96585002,  5.64692399,  3.84497223,  2.33389694,  1.94424147,\n",
       "         1.13013448,  0.8049427 ,  0.54791859,  0.37826633,  0.22784531]),\n",
       " array([15.33808049, 13.21144313, 11.51966436, 10.30675383,  8.39590814,\n",
       "         4.67128259,  4.34324716,  3.16368664,  2.97796869,  1.76693742,\n",
       "         1.39823499,  1.091312  ,  0.5109583 ,  0.42675855,  0.39007782,\n",
       "         0.2899431 ]),\n",
       " array([12.99997967,  8.33628212,  7.80507992,  4.88175418,  2.49048647,\n",
       "         2.13547468,  1.67550988,  1.1813724 ,  1.10911345,  0.62477472,\n",
       "         0.54278133,  0.52389138,  0.43656316,  0.37731407,  0.23572293,\n",
       "         0.14744542,  0.13552618]),\n",
       " array([9.96678929, 7.8559157 , 2.33955188, 1.34230401, 0.92676526,\n",
       "        0.80168515, 0.66417793, 0.64135933, 0.56791452, 0.52100959,\n",
       "        0.42282756, 0.37874666, 0.31352866, 0.27859796, 0.25595306,\n",
       "        0.16838354, 0.08788082, 0.03896907]),\n",
       " array([16.2693498 , 11.62951162, 10.92419337,  9.65425434,  8.27248029,\n",
       "         5.86507836,  4.15634932,  2.85379004,  2.44782569,  1.64807097,\n",
       "         1.44626562,  0.98043531,  0.68468186,  0.61402378,  0.53594753,\n",
       "         0.36083227,  0.31034357,  0.17947623,  0.08486289]),\n",
       " array([16.2348922 , 15.04089135, 13.81313899, 12.46866783,  8.76223864,\n",
       "         8.33922822,  6.98366886,  4.6754995 ,  3.16129391,  2.90938226,\n",
       "         2.01912853,  1.47117843,  0.99909306,  0.71157397,  0.5701533 ,\n",
       "         0.53132452,  0.28470532,  0.21008717,  0.17057317,  0.09853174]),\n",
       " array([10.41755517,  7.69234135,  2.29992601,  0.97538029,  0.86962267,\n",
       "         0.83524906,  0.71761436,  0.69931882,  0.60171835,  0.57240047,\n",
       "         0.51285928,  0.47278826,  0.38542706,  0.26979629,  0.24151008,\n",
       "         0.22919229,  0.16394411,  0.14839587,  0.13367754,  0.114571  ,\n",
       "         0.03488332]),\n",
       " array([18.36868712, 16.45408493, 13.64571015, 12.49764144, 10.78731004,\n",
       "         9.18777463,  8.94587806,  7.45929355,  5.21635385,  3.83703607,\n",
       "         2.61216246,  2.29640868,  2.05796575,  1.4173448 ,  1.24813311,\n",
       "         0.77859415,  0.61453411,  0.43898429,  0.35106272,  0.22096155,\n",
       "         0.05451009,  0.0338961 ]),\n",
       " array([15.94502332, 12.65849019, 11.48398293, 10.73054363,  9.22257435,\n",
       "         8.26450971,  7.27187968,  6.09115124,  4.25655072,  3.51374378,\n",
       "         1.9665039 ,  1.63520928,  1.2474938 ,  1.02457695,  0.803748  ,\n",
       "         0.59031833,  0.50989534,  0.35398434,  0.31361103,  0.25215292,\n",
       "         0.19533072,  0.09490032]),\n",
       " array([17.14511145, 13.75962961, 11.77001669, 11.18953824,  8.86811065,\n",
       "         8.07033496,  6.72937879,  6.01215024,  4.874732  ,  3.95641882,\n",
       "         2.85335471,  2.50729588,  1.53110228,  1.29576724,  1.04627818,\n",
       "         0.72606261,  0.51503998,  0.40841554,  0.29658836,  0.27195479,\n",
       "         0.14570936,  0.0618682 ]),\n",
       " array([10.47307541,  8.16782582,  1.68316187,  1.0565035 ,  0.88731938,\n",
       "         0.84505351,  0.76365611,  0.69281092,  0.67076183,  0.58349058,\n",
       "         0.56431686,  0.51390926,  0.41651521,  0.37431684,  0.34673178,\n",
       "         0.28553438,  0.21516628,  0.15563824,  0.14591314,  0.10622465,\n",
       "         0.08187499,  0.05892987]),\n",
       " array([14.26602155,  9.30344081,  8.18965769,  3.90964888,  2.84449851,\n",
       "         1.98776485,  1.37555462,  0.9980121 ,  0.88464331,  0.75047438,\n",
       "         0.72859331,  0.61468343,  0.48685539,  0.45047446,  0.39416388,\n",
       "         0.37935699,  0.34246899,  0.2506082 ,  0.19698069,  0.13454263,\n",
       "         0.1046785 ,  0.0632763 ]),\n",
       " array([14.75385655, 13.18277167, 12.08895051, 11.52124728,  9.76409074,\n",
       "         9.30228378,  7.52733694,  5.87619342,  3.5532397 ,  2.53796656,\n",
       "         2.38605992,  1.94727211,  1.63287724,  0.96550594,  0.7714995 ,\n",
       "         0.66920924,  0.47867281,  0.43711132,  0.3950151 ,  0.31358965,\n",
       "         0.21596406,  0.16847654])]"
      ]
     },
     "execution_count": 21,
     "metadata": {},
     "output_type": "execute_result"
    }
   ],
   "source": [
    "lambdas_base"
   ]
  },
  {
   "cell_type": "markdown",
   "metadata": {},
   "source": [
    "# Comparison"
   ]
  },
  {
   "cell_type": "code",
   "execution_count": 24,
   "metadata": {},
   "outputs": [
    {
     "data": {
      "image/png": "[encoded data removed]",
      "text/plain": [
       "<Figure size 576x504 with 1 Axes>"
      ]
     },
     "metadata": {
      "needs_background": "light"
     },
     "output_type": "display_data"
    }
   ],
   "source": [
    "plt.figure(figsize=(8, 7))\n",
    "plt.plot([a[0] for a in accs_base], [a[1] for a in accs_base], label=r'$f_{унив}}$')\n",
    "plt.plot([a[0] for a in accs_glm], [a[1] for a in accs_glm], label=r'$f_{GLM}}$')\n",
    "# plt.plot([a[0] for a in accs_ref], [a[1] for a in accs_ref], label=r'$f_{ref}}$')\n",
    "plt.legend(loc='best')\n",
    "plt.ylabel('Accuracy')\n",
    "plt.xlabel('Model complexity')\n",
    "plt.show()"
   ]
  },
  {
   "cell_type": "code",
   "execution_count": 23,
   "metadata": {},
   "outputs": [
    {
     "data": {
      "image/png": "[encoded data removed]",
      "text/plain": [
       "<Figure size 576x504 with 1 Axes>"
      ]
     },
     "metadata": {
      "needs_background": "light"
     },
     "output_type": "display_data"
    }
   ],
   "source": [
    "plt.figure(figsize=(8, 7))\n",
    "plt.plot([a[0] for a in scores_base], [a[1] for a in scores_base], label=r'$f_{унив}}$')\n",
    "plt.fill_between([a[0] for a in scores_base],\n",
    "                 [a[1] - a[2] for a in scores_base],\n",
    "                 [a[1] + a[2] for a in scores_base], alpha=0.2)\n",
    "\n",
    "plt.plot([a[0] for a in scores_glm], [a[1] for a in scores_glm], label=r'$f_{GLM}}$', c='orange')\n",
    "plt.fill_between([a[0] for a in scores_glm],\n",
    "                 [a[1] - a[2] for a in scores_glm],\n",
    "                 [a[1] + a[2] for a in scores_glm], alpha=0.2)\n",
    "\n",
    "# plt.plot([a[0] for a in scores_ref], [a[1] for a in scores_ref], label=r'$f_{Ref}}$', c='green')\n",
    "# plt.fill_between([a[0] for a in scores_ref],\n",
    "#                  [a[1] - a[2] for a in scores_ref],\n",
    "#                  [a[1] + a[2] for a in scores_ref], alpha=0.2)\n",
    "\n",
    "plt.legend(loc='best')\n",
    "plt.ylabel('Log-Loss with std')\n",
    "plt.xlabel('Number of units (Complexity)')\n",
    "plt.show()"
   ]
  }
 ],
 "metadata": {
  "kernelspec": {
   "display_name": "Python 3",
   "language": "python",
   "name": "python3"
  },
  "language_info": {
   "codemirror_mode": {
    "name": "ipython",
    "version": 3
   },
   "file_extension": ".py",
   "mimetype": "text/x-python",
   "name": "python",
   "nbconvert_exporter": "python",
   "pygments_lexer": "ipython3",
   "version": "3.8.2"
  }
 },
 "nbformat": 4,
 "nbformat_minor": 4
}
