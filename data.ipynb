{
 "cells": [
  {
   "cell_type": "code",
   "execution_count": 1,
   "metadata": {},
   "outputs": [],
   "source": [
    "import pandas as pd\n",
    "import numpy as np\n",
    "from scipy.linalg import norm\n",
    "import matplotlib.pyplot as plt\n",
    "from uci_dataset import get_HARD\n",
    "\n",
    "from sklearn.preprocessing import MinMaxScaler"
   ]
  },
  {
   "cell_type": "code",
   "execution_count": 47,
   "metadata": {},
   "outputs": [
    {
     "name": "stdout",
     "output_type": "stream",
     "text": [
      "Data extracted...\n",
      "Train data shape: (3, 7352, 128)\n",
      "Train labels shape: (7352,)\n",
      "Test data shape: (3, 2947, 128)\n",
      "Test labels shape: (2947,)\n",
      "(7352, 68, 60)\n",
      "(2947, 68, 60)\n"
     ]
    }
   ],
   "source": [
    "train_dataset_loader, test_dataset_loader, labels_name = get_HARD(l=60)"
   ]
  },
  {
   "cell_type": "code",
   "execution_count": 11,
   "metadata": {},
   "outputs": [],
   "source": [
    "# scaler = MinMaxScaler(feature_range=(-1, 1))\n",
    "# train_data_all_axes = scaler.fit_transform(train_data_all_axes)\n",
    "# scaler = MinMaxScaler(feature_range=(-1, 1))\n",
    "# test_data_all_axes = scaler.fit_transform(test_data_all_axes)"
   ]
  },
  {
   "cell_type": "code",
   "execution_count": 48,
   "metadata": {},
   "outputs": [
    {
     "data": {
      "image/png": "[encoded data removed]",
      "text/plain": [
       "<Figure size 1440x216 with 1 Axes>"
      ]
     },
     "metadata": {
      "needs_background": "light"
     },
     "output_type": "display_data"
    }
   ],
   "source": [
    "data, target = next(iter(train_loader))\n",
    "sample = data[0, 0]\n",
    "\n",
    "plt.figure(figsize=(20, 3))\n",
    "plt.plot(sample, c='b')\n",
    "plt.title(labels_name[int(target[0].detach().numpy())])\n",
    "plt.show()"
   ]
  },
  {
   "cell_type": "code",
   "execution_count": 49,
   "metadata": {},
   "outputs": [
    {
     "data": {
      "text/plain": [
       "tensor([0, 5, 4, 0, 3, 2, 3, 1])"
      ]
     },
     "execution_count": 49,
     "metadata": {},
     "output_type": "execute_result"
    }
   ],
   "source": [
    "target"
   ]
  },
  {
   "cell_type": "markdown",
   "metadata": {},
   "source": [
    "<hr>"
   ]
  },
  {
   "cell_type": "code",
   "execution_count": null,
   "metadata": {},
   "outputs": [
    {
     "name": "stdout",
     "output_type": "stream",
     "text": [
      "[0]: 7200/7352\tLoss: 1.700854\n",
      "38.7873% test accuracy\n",
      "[1]: 7200/7352\tLoss: 1.546275\n",
      "38.7534% test accuracy\n",
      "[2]: 7200/7352\tLoss: 1.561254\n",
      "43.4621% test accuracy\n",
      "[3]: 7200/7352\tLoss: 1.642773\n",
      "44.0379% test accuracy\n",
      "[4]: 7200/7352\tLoss: 1.524166\n",
      "38.2453% test accuracy\n",
      "[5]: 7200/7352\tLoss: 1.306683\n",
      "44.6138% test accuracy\n",
      "[6]: 7200/7352\tLoss: 2.046430\n",
      "45.2236% test accuracy\n",
      "[7]: 7200/7352\tLoss: 1.842737\n",
      "44.9187% test accuracy\n",
      "[8]: 7200/7352\tLoss: 1.162077\n",
      "45.7995% test accuracy\n",
      "[9]: 7200/7352\tLoss: 1.359687\n",
      "45.6301% test accuracy\n",
      "[10]: 7200/7352\tLoss: 1.929478\n",
      "45.4946% test accuracy\n",
      "[11]: 7200/7352\tLoss: 0.979725\n",
      "45.7995% test accuracy\n",
      "[12]: 7200/7352\tLoss: 1.433145\n",
      "45.2575% test accuracy\n",
      "[13]: 7200/7352\tLoss: 1.627822\n",
      "45.7995% test accuracy\n",
      "[14]: 7200/7352\tLoss: 1.701160\n",
      "45.0542% test accuracy\n",
      "[15]: 7200/7352\tLoss: 1.665030\n",
      "46.3076% test accuracy\n",
      "[16]: 7200/7352\tLoss: 1.381019\n",
      "46.1721% test accuracy\n",
      "[17]: 7200/7352\tLoss: 1.492637\n",
      "46.0366% test accuracy\n",
      "[18]: 7200/7352\tLoss: 1.617169\n",
      "46.1382% test accuracy\n",
      "[19]: 800/7352\tLoss: 1.501298"
     ]
    }
   ],
   "source": [
    "import torch\n",
    "import torch.nn as nn\n",
    "import torch.nn.functional as F\n",
    "from torch import optim\n",
    "from torch.autograd import Variable\n",
    "\n",
    "class fc_model(nn.Module):\n",
    "    def __init__(self, n_hidden, n_classes):\n",
    "        super(fc_model, self).__init__()\n",
    "        self.fc1 = nn.Linear(68*60, n_hidden)\n",
    "        self.fc2 = nn.Linear(n_hidden, n_classes)\n",
    "        self.relu = nn.ReLU()\n",
    "    \n",
    "    def forward(self, x):\n",
    "        x = x.view(x.shape[0], -1)\n",
    "        x = self.fc1(x)\n",
    "        x = self.relu(x)\n",
    "        x = self.fc2(x)\n",
    "        x = self.relu(x)\n",
    "        return F.log_softmax(x, dim=1)\n",
    "\n",
    "model = fc_model(20000, 6)\n",
    "model.cuda()\n",
    "\n",
    "optimizer = optim.SGD(model.parameters(), lr=0.001)\n",
    "criterion = nn.CrossEntropyLoss()\n",
    "\n",
    "epochs = 100\n",
    "\n",
    "w_list = []\n",
    "\n",
    "for epoch in range(epochs):\n",
    "    for batch_idx, (data, target) in enumerate(train_dataset_loader):\n",
    "        data, target = Variable(data.cuda()), Variable(target.cuda())\n",
    "        optimizer.zero_grad()\n",
    "        prediction = model(data)\n",
    "        loss = criterion(prediction, target)\n",
    "        loss.backward()\n",
    "        optimizer.step()\n",
    "        if batch_idx % 50 == 0:\n",
    "            print('\\r[{}]: {}/{}\\tLoss: {:.6f}'.format(epoch,\n",
    "                                                       batch_idx * len(data),\n",
    "                                                       len(train_dataset_loader.dataset),\n",
    "                                                       loss.item()), end='')\n",
    "    \n",
    "    print()\n",
    "    w_list.append(model.fc1.weight.data.clone())\n",
    "\n",
    "        \n",
    "    correct = 0\n",
    "    all_samples = 0\n",
    "    for batch_idx, (data, target) in enumerate(test_dataset_loader):\n",
    "        data, target = Variable(data.cuda()), Variable(target.cuda())\n",
    "        prediction = model(data)\n",
    "        all_samples += 8\n",
    "        for i in range(target.shape[0]):\n",
    "            if torch.max(prediction, 1)[1][i] == target[i]:\n",
    "                correct += 1\n",
    "    print('{:.6}% test accuracy'.format(correct/all_samples*100))"
   ]
  },
  {
   "cell_type": "code",
   "execution_count": 64,
   "metadata": {},
   "outputs": [
    {
     "data": {
      "text/plain": [
       "tensor([[-2.6429, -2.9983, -4.5560, -1.3387, -1.0865, -1.3134],\n",
       "        [-2.9619, -3.3596, -5.1094, -1.3214, -1.0104, -1.2850],\n",
       "        [-1.3421, -1.4149, -1.5971, -2.4486, -2.1962, -2.3473]],\n",
       "       device='cuda:0', grad_fn=<LogSoftmaxBackward>)"
      ]
     },
     "execution_count": 64,
     "metadata": {},
     "output_type": "execute_result"
    }
   ],
   "source": [
    "prediction"
   ]
  },
  {
   "cell_type": "code",
   "execution_count": 28,
   "metadata": {},
   "outputs": [
    {
     "data": {
      "text/plain": [
       "(tensor([[ 0.0000,  0.0000,  0.0000,  0.0000,  0.0000,  0.0000],\n",
       "         [ 0.0000,  0.0000,  0.0000,  0.0000,  0.0000, 33.7543],\n",
       "         [ 0.0000,  0.0000,  0.0000,  0.0000,  0.0000,  0.0000],\n",
       "         [ 0.0000,  0.0000,  0.0000,  0.0000,  0.0000, 26.1120],\n",
       "         [ 0.0000,  0.0000,  0.0000,  0.0000,  0.0000,  0.0000],\n",
       "         [ 0.0000,  0.0000,  0.0000,  0.0000,  0.0000,  0.0000],\n",
       "         [ 0.0000,  0.0000,  0.0000,  0.0000,  0.0000, 33.7846],\n",
       "         [ 0.0000,  0.0000,  0.0000,  0.0000,  0.0000,  0.0000]],\n",
       "        device='cuda:0'),\n",
       " tensor([0, 5, 0, 3, 1, 0, 3, 0]))"
      ]
     },
     "execution_count": 28,
     "metadata": {},
     "output_type": "execute_result"
    }
   ],
   "source": [
    "b, t = next(iter(train_dataset_loader))\n",
    "b = b.cuda()\n",
    "with torch.no_grad():\n",
    "    tmp = model.fc1(b)\n",
    "    tmp = model.relu(tmp)\n",
    "    tmp = model.fc2(tmp)\n",
    "    tmp = model.relu(tmp)\n",
    "tmp, t "
   ]
  },
  {
   "cell_type": "code",
   "execution_count": 85,
   "metadata": {},
   "outputs": [
    {
     "data": {
      "text/plain": [
       "tensor(255.8069, device='cuda:0')"
      ]
     },
     "execution_count": 85,
     "metadata": {},
     "output_type": "execute_result"
    }
   ],
   "source": [
    "torch.sum(torch.abs(model.fc1.weight.data - w_list[0]))"
   ]
  },
  {
   "cell_type": "code",
   "execution_count": 76,
   "metadata": {},
   "outputs": [
    {
     "name": "stdout",
     "output_type": "stream",
     "text": [
      "0.4574143196470987\n"
     ]
    }
   ],
   "source": [
    "correct = 0\n",
    "all_samples = 0\n",
    "\n",
    "for batch_idx, (data, target) in enumerate(zip(test_data[0], test_labels)):\n",
    "    data, target = Variable(torch.from_numpy(data).float()), Variable(torch.LongTensor([target]))\n",
    "    data = data.view(-1, 128)\n",
    "    prediction = net(data)\n",
    "    \n",
    "    all_samples += 1\n",
    "    if torch.max(prediction, 1)[1] == target:\n",
    "        correct += 1\n",
    "\n",
    "print(correct/all_samples)"
   ]
  },
  {
   "cell_type": "code",
   "execution_count": 62,
   "metadata": {},
   "outputs": [
    {
     "data": {
      "text/plain": [
       "tensor([4])"
      ]
     },
     "execution_count": 62,
     "metadata": {},
     "output_type": "execute_result"
    }
   ],
   "source": [
    "torch.max(prediction, 1)[1]"
   ]
  },
  {
   "cell_type": "code",
   "execution_count": 41,
   "metadata": {},
   "outputs": [
    {
     "data": {
      "text/plain": [
       "'torch.FloatTensor'"
      ]
     },
     "execution_count": 41,
     "metadata": {},
     "output_type": "execute_result"
    }
   ],
   "source": [
    "criterion()"
   ]
  }
 ],
 "metadata": {
  "kernelspec": {
   "display_name": "Python 3",
   "language": "python",
   "name": "python3"
  },
  "language_info": {
   "codemirror_mode": {
    "name": "ipython",
    "version": 3
   },
   "file_extension": ".py",
   "mimetype": "text/x-python",
   "name": "python",
   "nbconvert_exporter": "python",
   "pygments_lexer": "ipython3",
   "version": "3.8.2"
  }
 },
 "nbformat": 4,
 "nbformat_minor": 4
}
